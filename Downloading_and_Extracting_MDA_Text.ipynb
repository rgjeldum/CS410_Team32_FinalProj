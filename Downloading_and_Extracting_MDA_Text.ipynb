{
 "cells": [
  {
   "cell_type": "markdown",
   "metadata": {},
   "source": [
    "# Tutorial - Downloading and Extracting MD&A Text"
   ]
  },
  {
   "cell_type": "markdown",
   "metadata": {},
   "source": [
    "This tutorial will illustrate how to download master indexes from the EDGAR system, extract the desired line items and build objects that isolate MD&A text and save to disk. "
   ]
  },
  {
   "cell_type": "markdown",
   "metadata": {},
   "source": [
    "> **Note:**\n",
    "\n",
    "> These files are designed to be run in sequential order."
   ]
  },
  {
   "cell_type": "markdown",
   "metadata": {},
   "source": [
    "### Step 1. Downloading a Master Index"
   ]
  },
  {
   "cell_type": "markdown",
   "metadata": {},
   "source": [
    "Use ```download_master.py``` to download indexes for a given range of years. Indexes are in CSV format and are roughly 20MB each."
   ]
  },
  {
   "cell_type": "markdown",
   "metadata": {},
   "source": [
    "**Syntax:**\n",
    "\n",
    "```\n",
    "$ python download_master.py <start_year> <end_year>\n",
    "```\n",
    "\n",
    "**Example:**\n",
    "```\n",
    "$ python download_master.py 2016 2017\n",
    "```\n",
    "\n",
    "**Output:**\n",
    "\n",
    "```\n",
    "Downloading 2016 Q1 master index.\n",
    "Downloading 2016 Q2 master index.\n",
    "Downloading 2016 Q3 master index.\n",
    "Downloading 2016 Q4 master index.\n",
    "Downloading 2017 Q1 master index.\n",
    "Downloading 2017 Q2 master index.\n",
    "Downloading 2017 Q3 master index.\n",
    "Downloading 2017 Q4 master index.\n",
    "```"
   ]
  },
  {
   "cell_type": "markdown",
   "metadata": {},
   "source": [
    "### Step 2. Extracting Form 10-Q and Form 10-K Filings"
   ]
  },
  {
   "cell_type": "markdown",
   "metadata": {},
   "source": [
    "The ```extract_10x_from_master.py``` file iterates through the above master indexes for a given range of years and extracts the Form 10-Q and Form 10-K lines. These are saved to a new file ```10X_<start_year>_<end_year>.idx```."
   ]
  },
  {
   "cell_type": "markdown",
   "metadata": {},
   "source": [
    "**Syntax:**\n",
    "\n",
    "```\n",
    "$ python extract_10x_from_master.py <start_year> <end_year>\n",
    "```\n",
    "\n",
    "**Example:**\n",
    "\n",
    "```\n",
    "$ python extract_10x_from_master.py 2016 2017\n",
    "```\n",
    "\n",
    "**Output:**\n",
    "\n",
    "```\n",
    "Extracting filing data:\n",
    "    2016 Q1... Found 3798 filings\n",
    "    2016 Q2... Found 7416 filings\n",
    "    2016 Q3... Found 6870 filings\n",
    "    2016 Q4... Found 6798 filings\n",
    "    2017 Q1... Found 6819 filings\n",
    "    2017 Q2... Found 7129 filings\n",
    "    2017 Q3... Found 6549 filings\n",
    "    2017 Q4... Found 6369 filings\n",
    "Saving to Data/10X-2016-2017.idx\n",
    "```"
   ]
  },
  {
   "cell_type": "markdown",
   "metadata": {
    "collapsed": true
   },
   "source": [
    "### Step 3. Building MD&A Filing Objects"
   ]
  },
  {
   "cell_type": "markdown",
   "metadata": {},
   "source": [
    "In order to extract the MD&A section from Form 10-Q and Form 10-K documents, each raw text filing must be parsed carefully to remove financial terms and dollar amounts. \n",
    "\n",
    "First, for each entry in the index created in Step 2 above, the raw text filing is downloaded from EDGAR and any HTML is removed. This is done using BeautifulSoup. Whitespace and unicode characters are removed using a series of regular expressions. The remaining text is then passed through a large stopword index to help isolate unique terms. The final, refined text is then saved to disk for later processing by topic modeling libraries.\n",
    "\n",
    "As you can see from Step 2 above, this file parses through thousands of filings and could take several hours to download and analyze."
   ]
  },
  {
   "cell_type": "markdown",
   "metadata": {},
   "source": [
    "**Syntax:**\n",
    "\n",
    "```\n",
    "$ python build_edgar_mda_files.py <index_filename> [cik_maskfile] [max_count]\n",
    "```\n",
    "\n",
    "**Parameters:**\n",
    "\n",
    "- ```<index_filename>``` - 'The index created in Step 2 containing only Form 10-Q and Form 10-K filing references.\n",
    "- ```[cik_maskfile]``` - An optional reference to a text file containing a list of CIK numbers. Only filings for companies matching these CIK numbers will be downloaded and processed.\n",
    "- ```[max_count]``` - An optional parameter limiting the number of filings to be processed.\n",
    "\n",
    "**Example:**\n",
    "\n",
    "```\n",
    "$ python build_edgar_mda_files.py ./Data/10X-2016-2017.idx ./Data/737x.csv 1\n",
    "```\n",
    "\n",
    "**Output:**\n",
    "\n",
    "```\n",
    "Loading index ./Data/10X-2016-2017.idx.\n",
    "Loading 757 stopwords.\n",
    "----------------------------------------------------------------\n",
    "1. Processing ('1002517', 'Nuance Communications, Inc.', '10-Q', '2016-02-09', 'edgar/data/1002517/0001002517-16-000049.txt')\n",
    "Downloading raw filing text\n",
    "Searching for SIC code\n",
    "\tFound 7372\n",
    "Searching for Accession Number... \n",
    "\tFound 000100251716000049\n",
    "Searching for MD&A text\n",
    "\tTrimming MD&A START to 2978.\n",
    "\tTrimming MD&A START to 66595.\n",
    "\tTrimming MD&A END to 63566.\n",
    "\tSuccess!\n",
    "Removing stopwords and garbage.\n",
    "Saving MD&A text to ./Data/MDA/mda_7372_2016-02-09_1002517_000100251716000049.txt\n",
    "================================================================\n",
    "Done. 1 filing(s) loaded.\n",
    "```"
   ]
  },
  {
   "cell_type": "markdown",
   "metadata": {},
   "source": [
    "After loading the index and stopword file, each line is processed as mentioned above. When the first mention of the MD&A section is reached, the program trims the file to that point. It continues seeking through the file until the last occurrence of the MD&A start header is found, trimming along the way. This is because the MD&A section is frequently referenced in other parts of the filing. The end of the MD&A section is located, allowing us to finally extract the desired section. Stopwords and other undesired text are removed and the MD&A is saved to a file.\n",
    "\n",
    "Now that the data sets have been prepared, we can begin the topic modeling and visualization process."
   ]
  },
  {
   "cell_type": "markdown",
   "metadata": {},
   "source": [
    "### Other Tutorials\n",
    "\n",
    "- [Topic Modeling and Visualizations Using Latent Dirichlet Allocation](Visualizations.ipynb)\n",
    "- [Project Overview](README.md)"
   ]
  }
 ],
 "metadata": {
  "kernelspec": {
   "display_name": "Python 3",
   "language": "python",
   "name": "python3"
  },
  "language_info": {
   "codemirror_mode": {
    "name": "ipython",
    "version": 3
   },
   "file_extension": ".py",
   "mimetype": "text/x-python",
   "name": "python",
   "nbconvert_exporter": "python",
   "pygments_lexer": "ipython3",
   "version": "3.6.0"
  }
 },
 "nbformat": 4,
 "nbformat_minor": 2
}
